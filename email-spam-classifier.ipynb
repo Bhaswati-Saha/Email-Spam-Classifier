{
 "cells": [
  {
   "cell_type": "code",
   "execution_count": 1,
   "metadata": {
    "_cell_guid": "b1076dfc-b9ad-4769-8c92-a6c4dae69d19",
    "_uuid": "8f2839f25d086af736a60e9eeb907d3b93b6e0e5",
    "execution": {
     "iopub.execute_input": "2021-07-26T15:47:05.723667Z",
     "iopub.status.busy": "2021-07-26T15:47:05.723232Z",
     "iopub.status.idle": "2021-07-26T15:47:05.743126Z",
     "shell.execute_reply": "2021-07-26T15:47:05.742227Z",
     "shell.execute_reply.started": "2021-07-26T15:47:05.723555Z"
    }
   },
   "outputs": [],
   "source": [
    "import numpy as np\n",
    "import pandas as pd"
   ]
  },
  {
   "cell_type": "code",
   "execution_count": 2,
   "metadata": {
    "execution": {
     "iopub.execute_input": "2021-07-26T15:47:05.744489Z",
     "iopub.status.busy": "2021-07-26T15:47:05.744257Z",
     "iopub.status.idle": "2021-07-26T15:47:06.131233Z",
     "shell.execute_reply": "2021-07-26T15:47:06.130557Z",
     "shell.execute_reply.started": "2021-07-26T15:47:05.744465Z"
    }
   },
   "outputs": [],
   "source": [
    "df=pd.read_csv('emails.csv')"
   ]
  },
  {
   "cell_type": "code",
   "execution_count": 3,
   "metadata": {
    "execution": {
     "iopub.execute_input": "2021-07-26T15:47:06.132952Z",
     "iopub.status.busy": "2021-07-26T15:47:06.132513Z",
     "iopub.status.idle": "2021-07-26T15:47:06.157115Z",
     "shell.execute_reply": "2021-07-26T15:47:06.156516Z",
     "shell.execute_reply.started": "2021-07-26T15:47:06.132911Z"
    }
   },
   "outputs": [
    {
     "data": {
      "text/html": [
       "<div>\n",
       "<style scoped>\n",
       "    .dataframe tbody tr th:only-of-type {\n",
       "        vertical-align: middle;\n",
       "    }\n",
       "\n",
       "    .dataframe tbody tr th {\n",
       "        vertical-align: top;\n",
       "    }\n",
       "\n",
       "    .dataframe thead th {\n",
       "        text-align: right;\n",
       "    }\n",
       "</style>\n",
       "<table border=\"1\" class=\"dataframe\">\n",
       "  <thead>\n",
       "    <tr style=\"text-align: right;\">\n",
       "      <th></th>\n",
       "      <th>text</th>\n",
       "      <th>spam</th>\n",
       "      <th>Unnamed: 2</th>\n",
       "      <th>Unnamed: 3</th>\n",
       "      <th>Unnamed: 4</th>\n",
       "      <th>Unnamed: 5</th>\n",
       "      <th>Unnamed: 6</th>\n",
       "      <th>Unnamed: 7</th>\n",
       "      <th>Unnamed: 8</th>\n",
       "      <th>Unnamed: 9</th>\n",
       "      <th>...</th>\n",
       "      <th>Unnamed: 100</th>\n",
       "      <th>Unnamed: 101</th>\n",
       "      <th>Unnamed: 102</th>\n",
       "      <th>Unnamed: 103</th>\n",
       "      <th>Unnamed: 104</th>\n",
       "      <th>Unnamed: 105</th>\n",
       "      <th>Unnamed: 106</th>\n",
       "      <th>Unnamed: 107</th>\n",
       "      <th>Unnamed: 108</th>\n",
       "      <th>Unnamed: 109</th>\n",
       "    </tr>\n",
       "  </thead>\n",
       "  <tbody>\n",
       "    <tr>\n",
       "      <th>0</th>\n",
       "      <td>Subject: naturally irresistible your corporate...</td>\n",
       "      <td>1</td>\n",
       "      <td>NaN</td>\n",
       "      <td>NaN</td>\n",
       "      <td>NaN</td>\n",
       "      <td>NaN</td>\n",
       "      <td>NaN</td>\n",
       "      <td>NaN</td>\n",
       "      <td>NaN</td>\n",
       "      <td>NaN</td>\n",
       "      <td>...</td>\n",
       "      <td>NaN</td>\n",
       "      <td>NaN</td>\n",
       "      <td>NaN</td>\n",
       "      <td>NaN</td>\n",
       "      <td>NaN</td>\n",
       "      <td>NaN</td>\n",
       "      <td>NaN</td>\n",
       "      <td>NaN</td>\n",
       "      <td>NaN</td>\n",
       "      <td>NaN</td>\n",
       "    </tr>\n",
       "  </tbody>\n",
       "</table>\n",
       "<p>1 rows × 110 columns</p>\n",
       "</div>"
      ],
      "text/plain": [
       "                                                text spam Unnamed: 2  \\\n",
       "0  Subject: naturally irresistible your corporate...    1        NaN   \n",
       "\n",
       "  Unnamed: 3 Unnamed: 4 Unnamed: 5 Unnamed: 6 Unnamed: 7 Unnamed: 8  \\\n",
       "0        NaN        NaN        NaN        NaN        NaN        NaN   \n",
       "\n",
       "  Unnamed: 9  ... Unnamed: 100 Unnamed: 101 Unnamed: 102 Unnamed: 103  \\\n",
       "0        NaN  ...          NaN          NaN          NaN          NaN   \n",
       "\n",
       "  Unnamed: 104 Unnamed: 105 Unnamed: 106 Unnamed: 107 Unnamed: 108  \\\n",
       "0          NaN          NaN          NaN          NaN          NaN   \n",
       "\n",
       "  Unnamed: 109  \n",
       "0          NaN  \n",
       "\n",
       "[1 rows x 110 columns]"
      ]
     },
     "execution_count": 3,
     "metadata": {},
     "output_type": "execute_result"
    }
   ],
   "source": [
    "df.head(1)"
   ]
  },
  {
   "cell_type": "code",
   "execution_count": 4,
   "metadata": {
    "execution": {
     "iopub.execute_input": "2021-07-26T15:47:06.158773Z",
     "iopub.status.busy": "2021-07-26T15:47:06.158216Z",
     "iopub.status.idle": "2021-07-26T15:47:06.163618Z",
     "shell.execute_reply": "2021-07-26T15:47:06.162596Z",
     "shell.execute_reply.started": "2021-07-26T15:47:06.158734Z"
    }
   },
   "outputs": [
    {
     "data": {
      "text/plain": [
       "(5731, 110)"
      ]
     },
     "execution_count": 4,
     "metadata": {},
     "output_type": "execute_result"
    }
   ],
   "source": [
    "df.shape"
   ]
  },
  {
   "cell_type": "code",
   "execution_count": 5,
   "metadata": {
    "execution": {
     "iopub.execute_input": "2021-07-26T15:47:06.165016Z",
     "iopub.status.busy": "2021-07-26T15:47:06.164597Z",
     "iopub.status.idle": "2021-07-26T15:47:06.173239Z",
     "shell.execute_reply": "2021-07-26T15:47:06.172597Z",
     "shell.execute_reply.started": "2021-07-26T15:47:06.164979Z"
    }
   },
   "outputs": [],
   "source": [
    "df=df.iloc[:,0:2]"
   ]
  },
  {
   "cell_type": "code",
   "execution_count": 6,
   "metadata": {
    "execution": {
     "iopub.execute_input": "2021-07-26T15:47:06.174766Z",
     "iopub.status.busy": "2021-07-26T15:47:06.174308Z",
     "iopub.status.idle": "2021-07-26T15:47:06.187438Z",
     "shell.execute_reply": "2021-07-26T15:47:06.186817Z",
     "shell.execute_reply.started": "2021-07-26T15:47:06.174737Z"
    }
   },
   "outputs": [
    {
     "data": {
      "text/html": [
       "<div>\n",
       "<style scoped>\n",
       "    .dataframe tbody tr th:only-of-type {\n",
       "        vertical-align: middle;\n",
       "    }\n",
       "\n",
       "    .dataframe tbody tr th {\n",
       "        vertical-align: top;\n",
       "    }\n",
       "\n",
       "    .dataframe thead th {\n",
       "        text-align: right;\n",
       "    }\n",
       "</style>\n",
       "<table border=\"1\" class=\"dataframe\">\n",
       "  <thead>\n",
       "    <tr style=\"text-align: right;\">\n",
       "      <th></th>\n",
       "      <th>text</th>\n",
       "      <th>spam</th>\n",
       "    </tr>\n",
       "  </thead>\n",
       "  <tbody>\n",
       "    <tr>\n",
       "      <th>0</th>\n",
       "      <td>Subject: naturally irresistible your corporate...</td>\n",
       "      <td>1</td>\n",
       "    </tr>\n",
       "    <tr>\n",
       "      <th>1</th>\n",
       "      <td>Subject: the stock trading gunslinger  fanny i...</td>\n",
       "      <td>1</td>\n",
       "    </tr>\n",
       "    <tr>\n",
       "      <th>2</th>\n",
       "      <td>Subject: unbelievable new homes made easy  im ...</td>\n",
       "      <td>1</td>\n",
       "    </tr>\n",
       "    <tr>\n",
       "      <th>3</th>\n",
       "      <td>Subject: 4 color printing special  request add...</td>\n",
       "      <td>1</td>\n",
       "    </tr>\n",
       "    <tr>\n",
       "      <th>4</th>\n",
       "      <td>Subject: do not have money , get software cds ...</td>\n",
       "      <td>1</td>\n",
       "    </tr>\n",
       "  </tbody>\n",
       "</table>\n",
       "</div>"
      ],
      "text/plain": [
       "                                                text spam\n",
       "0  Subject: naturally irresistible your corporate...    1\n",
       "1  Subject: the stock trading gunslinger  fanny i...    1\n",
       "2  Subject: unbelievable new homes made easy  im ...    1\n",
       "3  Subject: 4 color printing special  request add...    1\n",
       "4  Subject: do not have money , get software cds ...    1"
      ]
     },
     "execution_count": 6,
     "metadata": {},
     "output_type": "execute_result"
    }
   ],
   "source": [
    "df.head()"
   ]
  },
  {
   "cell_type": "code",
   "execution_count": 7,
   "metadata": {
    "execution": {
     "iopub.execute_input": "2021-07-26T15:47:06.188769Z",
     "iopub.status.busy": "2021-07-26T15:47:06.188365Z",
     "iopub.status.idle": "2021-07-26T15:47:06.204011Z",
     "shell.execute_reply": "2021-07-26T15:47:06.202873Z",
     "shell.execute_reply.started": "2021-07-26T15:47:06.188742Z"
    }
   },
   "outputs": [
    {
     "data": {
      "text/plain": [
       "text    0\n",
       "spam    2\n",
       "dtype: int64"
      ]
     },
     "execution_count": 7,
     "metadata": {},
     "output_type": "execute_result"
    }
   ],
   "source": [
    "df.isnull().sum()"
   ]
  },
  {
   "cell_type": "code",
   "execution_count": 8,
   "metadata": {
    "execution": {
     "iopub.execute_input": "2021-07-26T15:47:06.207223Z",
     "iopub.status.busy": "2021-07-26T15:47:06.206679Z",
     "iopub.status.idle": "2021-07-26T15:47:06.231343Z",
     "shell.execute_reply": "2021-07-26T15:47:06.230452Z",
     "shell.execute_reply.started": "2021-07-26T15:47:06.207192Z"
    }
   },
   "outputs": [],
   "source": [
    "df.dropna(subset=['spam'],inplace=True)"
   ]
  },
  {
   "cell_type": "code",
   "execution_count": 9,
   "metadata": {
    "execution": {
     "iopub.execute_input": "2021-07-26T15:47:06.233042Z",
     "iopub.status.busy": "2021-07-26T15:47:06.232589Z",
     "iopub.status.idle": "2021-07-26T15:47:06.261071Z",
     "shell.execute_reply": "2021-07-26T15:47:06.260527Z",
     "shell.execute_reply.started": "2021-07-26T15:47:06.233015Z"
    }
   },
   "outputs": [
    {
     "data": {
      "text/plain": [
       "33"
      ]
     },
     "execution_count": 9,
     "metadata": {},
     "output_type": "execute_result"
    }
   ],
   "source": [
    "df.duplicated().sum()"
   ]
  },
  {
   "cell_type": "code",
   "execution_count": 10,
   "metadata": {
    "execution": {
     "iopub.execute_input": "2021-07-26T15:47:06.262764Z",
     "iopub.status.busy": "2021-07-26T15:47:06.262214Z",
     "iopub.status.idle": "2021-07-26T15:47:06.291579Z",
     "shell.execute_reply": "2021-07-26T15:47:06.290919Z",
     "shell.execute_reply.started": "2021-07-26T15:47:06.262724Z"
    }
   },
   "outputs": [],
   "source": [
    "df=df.drop_duplicates()"
   ]
  },
  {
   "cell_type": "code",
   "execution_count": 11,
   "metadata": {
    "execution": {
     "iopub.execute_input": "2021-07-26T15:47:06.293032Z",
     "iopub.status.busy": "2021-07-26T15:47:06.292597Z",
     "iopub.status.idle": "2021-07-26T15:47:06.297589Z",
     "shell.execute_reply": "2021-07-26T15:47:06.296924Z",
     "shell.execute_reply.started": "2021-07-26T15:47:06.292995Z"
    }
   },
   "outputs": [
    {
     "data": {
      "text/plain": [
       "(5696, 2)"
      ]
     },
     "execution_count": 11,
     "metadata": {},
     "output_type": "execute_result"
    }
   ],
   "source": [
    "df.shape"
   ]
  },
  {
   "cell_type": "code",
   "execution_count": 12,
   "metadata": {
    "execution": {
     "iopub.execute_input": "2021-07-26T15:47:06.299077Z",
     "iopub.status.busy": "2021-07-26T15:47:06.298597Z",
     "iopub.status.idle": "2021-07-26T15:47:06.311050Z",
     "shell.execute_reply": "2021-07-26T15:47:06.310163Z",
     "shell.execute_reply.started": "2021-07-26T15:47:06.299039Z"
    }
   },
   "outputs": [
    {
     "data": {
      "text/plain": [
       "'Subject: search engine position  be the very first listing in the top search engines immediately .  our company will now place any business with a qualified website  permanently at the top of the major search engines guaranteed never to move  ( ex : yahoo ! , msn , alta vista , etc . ) . this promotion includes unlimited  traffic and is not going to last long . if you are interested in being  guaranteed first position in the top search engines at a promotional fee ,  please contact us promptly to find out if you qualify via email at  searchl 1 @ telefonica . net . pe it \\' s very important to include the url ( s ) if you  are interested in promoting ! ! ! this is not pay per click . examples will  be provided .  this promotion is only valid in the usa and canada .  sincerely ,  the search engine placement specialists  if you wish to be removed from this list , please respond to the following  email address and type the word \" remove \" in your subject line :  search 6 @ speedy . com . pe'"
      ]
     },
     "execution_count": 12,
     "metadata": {},
     "output_type": "execute_result"
    }
   ],
   "source": [
    "df.iloc[15]['text']"
   ]
  },
  {
   "cell_type": "code",
   "execution_count": 13,
   "metadata": {
    "execution": {
     "iopub.execute_input": "2021-07-26T15:47:06.312510Z",
     "iopub.status.busy": "2021-07-26T15:47:06.312028Z",
     "iopub.status.idle": "2021-07-26T15:47:06.320317Z",
     "shell.execute_reply": "2021-07-26T15:47:06.319577Z",
     "shell.execute_reply.started": "2021-07-26T15:47:06.312473Z"
    }
   },
   "outputs": [],
   "source": [
    "#Text preprocessing\n",
    "\n",
    "#Step-1.Convert to small letters(i.e. lowercase)\n",
    "#Step-2.remove special chars\n",
    "#Step-3.remove stopwords(i.e. a,of,the)\n",
    "#Step-4.convert to vectors"
   ]
  },
  {
   "cell_type": "code",
   "execution_count": 14,
   "metadata": {
    "execution": {
     "iopub.execute_input": "2021-07-26T15:47:06.321828Z",
     "iopub.status.busy": "2021-07-26T15:47:06.321307Z",
     "iopub.status.idle": "2021-07-26T15:47:06.342572Z",
     "shell.execute_reply": "2021-07-26T15:47:06.341986Z",
     "shell.execute_reply.started": "2021-07-26T15:47:06.321790Z"
    }
   },
   "outputs": [],
   "source": [
    "#Step-1\n",
    "df['text']=df['text'].apply(lambda x:x.lower())"
   ]
  },
  {
   "cell_type": "code",
   "execution_count": 15,
   "metadata": {
    "execution": {
     "iopub.execute_input": "2021-07-26T15:47:06.343932Z",
     "iopub.status.busy": "2021-07-26T15:47:06.343441Z",
     "iopub.status.idle": "2021-07-26T15:47:06.359461Z",
     "shell.execute_reply": "2021-07-26T15:47:06.358303Z",
     "shell.execute_reply.started": "2021-07-26T15:47:06.343893Z"
    }
   },
   "outputs": [
    {
     "data": {
      "text/html": [
       "<div>\n",
       "<style scoped>\n",
       "    .dataframe tbody tr th:only-of-type {\n",
       "        vertical-align: middle;\n",
       "    }\n",
       "\n",
       "    .dataframe tbody tr th {\n",
       "        vertical-align: top;\n",
       "    }\n",
       "\n",
       "    .dataframe thead th {\n",
       "        text-align: right;\n",
       "    }\n",
       "</style>\n",
       "<table border=\"1\" class=\"dataframe\">\n",
       "  <thead>\n",
       "    <tr style=\"text-align: right;\">\n",
       "      <th></th>\n",
       "      <th>text</th>\n",
       "      <th>spam</th>\n",
       "    </tr>\n",
       "  </thead>\n",
       "  <tbody>\n",
       "    <tr>\n",
       "      <th>0</th>\n",
       "      <td>subject: naturally irresistible your corporate...</td>\n",
       "      <td>1</td>\n",
       "    </tr>\n",
       "    <tr>\n",
       "      <th>1</th>\n",
       "      <td>subject: the stock trading gunslinger  fanny i...</td>\n",
       "      <td>1</td>\n",
       "    </tr>\n",
       "    <tr>\n",
       "      <th>2</th>\n",
       "      <td>subject: unbelievable new homes made easy  im ...</td>\n",
       "      <td>1</td>\n",
       "    </tr>\n",
       "    <tr>\n",
       "      <th>3</th>\n",
       "      <td>subject: 4 color printing special  request add...</td>\n",
       "      <td>1</td>\n",
       "    </tr>\n",
       "    <tr>\n",
       "      <th>4</th>\n",
       "      <td>subject: do not have money , get software cds ...</td>\n",
       "      <td>1</td>\n",
       "    </tr>\n",
       "  </tbody>\n",
       "</table>\n",
       "</div>"
      ],
      "text/plain": [
       "                                                text spam\n",
       "0  subject: naturally irresistible your corporate...    1\n",
       "1  subject: the stock trading gunslinger  fanny i...    1\n",
       "2  subject: unbelievable new homes made easy  im ...    1\n",
       "3  subject: 4 color printing special  request add...    1\n",
       "4  subject: do not have money , get software cds ...    1"
      ]
     },
     "execution_count": 15,
     "metadata": {},
     "output_type": "execute_result"
    }
   ],
   "source": [
    "df.head()"
   ]
  },
  {
   "cell_type": "code",
   "execution_count": 16,
   "metadata": {
    "execution": {
     "iopub.execute_input": "2021-07-26T15:47:06.361138Z",
     "iopub.status.busy": "2021-07-26T15:47:06.360792Z",
     "iopub.status.idle": "2021-07-26T15:47:06.369501Z",
     "shell.execute_reply": "2021-07-26T15:47:06.368458Z",
     "shell.execute_reply.started": "2021-07-26T15:47:06.361103Z"
    }
   },
   "outputs": [],
   "source": [
    "#Step-2\n",
    "def remove_special_chars(text):\n",
    "    result=\"\"\n",
    "    for i in text:# i is each character in text\n",
    "        if i.isalnum() or i==' ':\n",
    "            result+=i\n",
    "    return result.strip()\n",
    "        "
   ]
  },
  {
   "cell_type": "code",
   "execution_count": 17,
   "metadata": {
    "execution": {
     "iopub.execute_input": "2021-07-26T15:47:06.371196Z",
     "iopub.status.busy": "2021-07-26T15:47:06.370804Z",
     "iopub.status.idle": "2021-07-26T15:47:07.517023Z",
     "shell.execute_reply": "2021-07-26T15:47:07.516106Z",
     "shell.execute_reply.started": "2021-07-26T15:47:06.371159Z"
    }
   },
   "outputs": [],
   "source": [
    "df['text']=df['text'].apply(remove_special_chars)"
   ]
  },
  {
   "cell_type": "code",
   "execution_count": 18,
   "metadata": {
    "execution": {
     "iopub.execute_input": "2021-07-26T15:47:07.518395Z",
     "iopub.status.busy": "2021-07-26T15:47:07.518136Z",
     "iopub.status.idle": "2021-07-26T15:47:07.526510Z",
     "shell.execute_reply": "2021-07-26T15:47:07.525626Z",
     "shell.execute_reply.started": "2021-07-26T15:47:07.518369Z"
    }
   },
   "outputs": [
    {
     "data": {
      "text/plain": [
       "0                                                                                               4326\n",
       "1                                                                                               1368\n",
       " its termination would not  have such a phenomenal impact on the power situation .  however        1\n",
       " mr suresh prabhu                                                                                  1\n",
       "Name: spam, dtype: int64"
      ]
     },
     "execution_count": 18,
     "metadata": {},
     "output_type": "execute_result"
    }
   ],
   "source": [
    "df['spam'].value_counts()"
   ]
  },
  {
   "cell_type": "code",
   "execution_count": 19,
   "metadata": {
    "execution": {
     "iopub.execute_input": "2021-07-26T15:47:07.528006Z",
     "iopub.status.busy": "2021-07-26T15:47:07.527763Z",
     "iopub.status.idle": "2021-07-26T15:47:07.541233Z",
     "shell.execute_reply": "2021-07-26T15:47:07.540506Z",
     "shell.execute_reply.started": "2021-07-26T15:47:07.527982Z"
    }
   },
   "outputs": [
    {
     "data": {
      "text/html": [
       "<div>\n",
       "<style scoped>\n",
       "    .dataframe tbody tr th:only-of-type {\n",
       "        vertical-align: middle;\n",
       "    }\n",
       "\n",
       "    .dataframe tbody tr th {\n",
       "        vertical-align: top;\n",
       "    }\n",
       "\n",
       "    .dataframe thead th {\n",
       "        text-align: right;\n",
       "    }\n",
       "</style>\n",
       "<table border=\"1\" class=\"dataframe\">\n",
       "  <thead>\n",
       "    <tr style=\"text-align: right;\">\n",
       "      <th></th>\n",
       "      <th>text</th>\n",
       "      <th>spam</th>\n",
       "    </tr>\n",
       "  </thead>\n",
       "  <tbody>\n",
       "    <tr>\n",
       "      <th>1381</th>\n",
       "      <td>e dpc contributed only 0  7 per  cent of the t...</td>\n",
       "      <td>its termination would not  have such a phenom...</td>\n",
       "    </tr>\n",
       "  </tbody>\n",
       "</table>\n",
       "</div>"
      ],
      "text/plain": [
       "                                                   text  \\\n",
       "1381  e dpc contributed only 0  7 per  cent of the t...   \n",
       "\n",
       "                                                   spam  \n",
       "1381   its termination would not  have such a phenom...  "
      ]
     },
     "execution_count": 19,
     "metadata": {},
     "output_type": "execute_result"
    }
   ],
   "source": [
    "df[df['spam'].str.contains('its termination would not  have such a phenomenal impact on the power situation .  however')]"
   ]
  },
  {
   "cell_type": "code",
   "execution_count": 20,
   "metadata": {
    "execution": {
     "iopub.execute_input": "2021-07-26T15:47:07.542349Z",
     "iopub.status.busy": "2021-07-26T15:47:07.542133Z",
     "iopub.status.idle": "2021-07-26T15:47:07.552626Z",
     "shell.execute_reply": "2021-07-26T15:47:07.551792Z",
     "shell.execute_reply.started": "2021-07-26T15:47:07.542327Z"
    }
   },
   "outputs": [
    {
     "data": {
      "text/html": [
       "<div>\n",
       "<style scoped>\n",
       "    .dataframe tbody tr th:only-of-type {\n",
       "        vertical-align: middle;\n",
       "    }\n",
       "\n",
       "    .dataframe tbody tr th {\n",
       "        vertical-align: top;\n",
       "    }\n",
       "\n",
       "    .dataframe thead th {\n",
       "        text-align: right;\n",
       "    }\n",
       "</style>\n",
       "<table border=\"1\" class=\"dataframe\">\n",
       "  <thead>\n",
       "    <tr style=\"text-align: right;\">\n",
       "      <th></th>\n",
       "      <th>text</th>\n",
       "      <th>spam</th>\n",
       "    </tr>\n",
       "  </thead>\n",
       "  <tbody>\n",
       "    <tr>\n",
       "      <th>2652</th>\n",
       "      <td>lf against undeserved claims in the event of e...</td>\n",
       "      <td>mr suresh prabhu</td>\n",
       "    </tr>\n",
       "  </tbody>\n",
       "</table>\n",
       "</div>"
      ],
      "text/plain": [
       "                                                   text                spam\n",
       "2652  lf against undeserved claims in the event of e...   mr suresh prabhu "
      ]
     },
     "execution_count": 20,
     "metadata": {},
     "output_type": "execute_result"
    }
   ],
   "source": [
    "df[df['spam'].str.contains('mr suresh prabhu')]"
   ]
  },
  {
   "cell_type": "code",
   "execution_count": 21,
   "metadata": {
    "execution": {
     "iopub.execute_input": "2021-07-26T15:47:07.554342Z",
     "iopub.status.busy": "2021-07-26T15:47:07.553979Z",
     "iopub.status.idle": "2021-07-26T15:47:07.562189Z",
     "shell.execute_reply": "2021-07-26T15:47:07.561357Z",
     "shell.execute_reply.started": "2021-07-26T15:47:07.554306Z"
    }
   },
   "outputs": [],
   "source": [
    "# so in order to convert the spam column into int, we need to drop two rows 1381 and 2652\n",
    "df.drop([1381,2652],axis=0,inplace=True)#axis=0 means rows"
   ]
  },
  {
   "cell_type": "code",
   "execution_count": 22,
   "metadata": {
    "execution": {
     "iopub.execute_input": "2021-07-26T15:47:07.563482Z",
     "iopub.status.busy": "2021-07-26T15:47:07.563159Z",
     "iopub.status.idle": "2021-07-26T15:47:07.844977Z",
     "shell.execute_reply": "2021-07-26T15:47:07.844109Z",
     "shell.execute_reply.started": "2021-07-26T15:47:07.563457Z"
    }
   },
   "outputs": [],
   "source": [
    "#Step-3 & 4\n",
    "from sklearn.feature_extraction.text import CountVectorizer"
   ]
  },
  {
   "cell_type": "code",
   "execution_count": 23,
   "metadata": {
    "execution": {
     "iopub.execute_input": "2021-07-26T15:47:07.848255Z",
     "iopub.status.busy": "2021-07-26T15:47:07.847972Z",
     "iopub.status.idle": "2021-07-26T15:47:07.853013Z",
     "shell.execute_reply": "2021-07-26T15:47:07.851989Z",
     "shell.execute_reply.started": "2021-07-26T15:47:07.848227Z"
    }
   },
   "outputs": [],
   "source": [
    "cv=CountVectorizer(stop_words='english',max_features=10000) # stop_words='english' we need to specify the language whose stop_words we want to remove and max_features=10000 because we want only 10000 unique words i.e. 10000 columns and cv is vector object"
   ]
  },
  {
   "cell_type": "code",
   "execution_count": 24,
   "metadata": {
    "execution": {
     "iopub.execute_input": "2021-07-26T15:47:07.854877Z",
     "iopub.status.busy": "2021-07-26T15:47:07.854524Z",
     "iopub.status.idle": "2021-07-26T15:47:09.470453Z",
     "shell.execute_reply": "2021-07-26T15:47:09.469532Z",
     "shell.execute_reply.started": "2021-07-26T15:47:07.854848Z"
    }
   },
   "outputs": [
    {
     "data": {
      "text/plain": [
       "(5694, 10000)"
      ]
     },
     "execution_count": 24,
     "metadata": {},
     "output_type": "execute_result"
    }
   ],
   "source": [
    "cv.fit_transform(df['text']).toarray().shape # since cv.fit_transform(df['text']) returns sparse matrix so we are converting it to numpy array and thus we are transforming each row(i.e. email) into vectors"
   ]
  },
  {
   "cell_type": "code",
   "execution_count": 25,
   "metadata": {
    "execution": {
     "iopub.execute_input": "2021-07-26T15:47:09.471748Z",
     "iopub.status.busy": "2021-07-26T15:47:09.471473Z",
     "iopub.status.idle": "2021-07-26T15:47:09.476024Z",
     "shell.execute_reply": "2021-07-26T15:47:09.475178Z",
     "shell.execute_reply.started": "2021-07-26T15:47:09.471715Z"
    }
   },
   "outputs": [],
   "source": [
    "# now there are 5694 vectors and 10000 columns of unique words"
   ]
  },
  {
   "cell_type": "code",
   "execution_count": 26,
   "metadata": {
    "execution": {
     "iopub.execute_input": "2021-07-26T15:47:09.477807Z",
     "iopub.status.busy": "2021-07-26T15:47:09.477426Z",
     "iopub.status.idle": "2021-07-26T15:47:10.648500Z",
     "shell.execute_reply": "2021-07-26T15:47:10.647782Z",
     "shell.execute_reply.started": "2021-07-26T15:47:09.477761Z"
    }
   },
   "outputs": [
    {
     "data": {
      "text/plain": [
       "(5694, 10000)"
      ]
     },
     "execution_count": 26,
     "metadata": {},
     "output_type": "execute_result"
    }
   ],
   "source": [
    "X=cv.fit_transform(df['text']).toarray()\n",
    "X.shape"
   ]
  },
  {
   "cell_type": "code",
   "execution_count": 27,
   "metadata": {
    "execution": {
     "iopub.execute_input": "2021-07-26T15:47:10.650170Z",
     "iopub.status.busy": "2021-07-26T15:47:10.649604Z",
     "iopub.status.idle": "2021-07-26T15:47:10.656510Z",
     "shell.execute_reply": "2021-07-26T15:47:10.655776Z",
     "shell.execute_reply.started": "2021-07-26T15:47:10.650127Z"
    }
   },
   "outputs": [
    {
     "data": {
      "text/plain": [
       "array([[0, 0, 0, ..., 0, 0, 0],\n",
       "       [0, 0, 0, ..., 0, 0, 0],\n",
       "       [0, 0, 0, ..., 0, 0, 0],\n",
       "       ...,\n",
       "       [0, 0, 0, ..., 0, 0, 0],\n",
       "       [0, 0, 0, ..., 0, 0, 0],\n",
       "       [0, 0, 0, ..., 0, 0, 0]], dtype=int64)"
      ]
     },
     "execution_count": 27,
     "metadata": {},
     "output_type": "execute_result"
    }
   ],
   "source": [
    "X # finally all the text has now become vector"
   ]
  },
  {
   "cell_type": "code",
   "execution_count": 28,
   "metadata": {
    "execution": {
     "iopub.execute_input": "2021-07-26T15:47:10.657656Z",
     "iopub.status.busy": "2021-07-26T15:47:10.657429Z",
     "iopub.status.idle": "2021-07-26T15:47:10.666625Z",
     "shell.execute_reply": "2021-07-26T15:47:10.665832Z",
     "shell.execute_reply.started": "2021-07-26T15:47:10.657633Z"
    }
   },
   "outputs": [
    {
     "data": {
      "text/plain": [
       "array([0, 0, 0, ..., 0, 0, 0], dtype=int64)"
      ]
     },
     "execution_count": 28,
     "metadata": {},
     "output_type": "execute_result"
    }
   ],
   "source": [
    "X[0] # it is the first email vector and X[0] is an array which has 10000 columns "
   ]
  },
  {
   "cell_type": "code",
   "execution_count": 29,
   "metadata": {
    "execution": {
     "iopub.execute_input": "2021-07-26T15:47:10.667840Z",
     "iopub.status.busy": "2021-07-26T15:47:10.667571Z",
     "iopub.status.idle": "2021-07-26T15:47:10.675934Z",
     "shell.execute_reply": "2021-07-26T15:47:10.675085Z",
     "shell.execute_reply.started": "2021-07-26T15:47:10.667814Z"
    }
   },
   "outputs": [],
   "source": [
    "df['spam']=df['spam'].astype('int')"
   ]
  },
  {
   "cell_type": "code",
   "execution_count": 30,
   "metadata": {
    "execution": {
     "iopub.execute_input": "2021-07-26T15:47:10.677356Z",
     "iopub.status.busy": "2021-07-26T15:47:10.677082Z",
     "iopub.status.idle": "2021-07-26T15:47:10.686160Z",
     "shell.execute_reply": "2021-07-26T15:47:10.685400Z",
     "shell.execute_reply.started": "2021-07-26T15:47:10.677329Z"
    }
   },
   "outputs": [
    {
     "data": {
      "text/plain": [
       "array([1, 1, 1, ..., 0, 0, 0])"
      ]
     },
     "execution_count": 30,
     "metadata": {},
     "output_type": "execute_result"
    }
   ],
   "source": [
    "y=df['spam'].values\n",
    "y"
   ]
  },
  {
   "cell_type": "code",
   "execution_count": 31,
   "metadata": {
    "execution": {
     "iopub.execute_input": "2021-07-26T15:47:10.687555Z",
     "iopub.status.busy": "2021-07-26T15:47:10.687195Z",
     "iopub.status.idle": "2021-07-26T15:47:10.912211Z",
     "shell.execute_reply": "2021-07-26T15:47:10.911288Z",
     "shell.execute_reply.started": "2021-07-26T15:47:10.687518Z"
    }
   },
   "outputs": [],
   "source": [
    "from sklearn.model_selection import train_test_split\n",
    "X_train,X_test,y_train,y_test=train_test_split(X,y,test_size=0.2)"
   ]
  },
  {
   "cell_type": "code",
   "execution_count": 32,
   "metadata": {
    "execution": {
     "iopub.execute_input": "2021-07-26T15:47:10.914988Z",
     "iopub.status.busy": "2021-07-26T15:47:10.914554Z",
     "iopub.status.idle": "2021-07-26T15:47:10.920946Z",
     "shell.execute_reply": "2021-07-26T15:47:10.920181Z",
     "shell.execute_reply.started": "2021-07-26T15:47:10.914943Z"
    }
   },
   "outputs": [],
   "source": [
    "from sklearn.naive_bayes import MultinomialNB"
   ]
  },
  {
   "cell_type": "code",
   "execution_count": 33,
   "metadata": {
    "execution": {
     "iopub.execute_input": "2021-07-26T15:47:10.922347Z",
     "iopub.status.busy": "2021-07-26T15:47:10.922116Z",
     "iopub.status.idle": "2021-07-26T15:47:10.930275Z",
     "shell.execute_reply": "2021-07-26T15:47:10.929508Z",
     "shell.execute_reply.started": "2021-07-26T15:47:10.922324Z"
    }
   },
   "outputs": [],
   "source": [
    "clf=MultinomialNB()"
   ]
  },
  {
   "cell_type": "code",
   "execution_count": 34,
   "metadata": {
    "execution": {
     "iopub.execute_input": "2021-07-26T15:47:10.931719Z",
     "iopub.status.busy": "2021-07-26T15:47:10.931404Z",
     "iopub.status.idle": "2021-07-26T15:47:11.267792Z",
     "shell.execute_reply": "2021-07-26T15:47:11.266922Z",
     "shell.execute_reply.started": "2021-07-26T15:47:10.931627Z"
    }
   },
   "outputs": [
    {
     "data": {
      "text/plain": [
       "MultinomialNB()"
      ]
     },
     "execution_count": 34,
     "metadata": {},
     "output_type": "execute_result"
    }
   ],
   "source": [
    "clf.fit(X_train,y_train)"
   ]
  },
  {
   "cell_type": "code",
   "execution_count": 35,
   "metadata": {
    "execution": {
     "iopub.execute_input": "2021-07-26T15:47:11.269027Z",
     "iopub.status.busy": "2021-07-26T15:47:11.268789Z",
     "iopub.status.idle": "2021-07-26T15:47:11.272794Z",
     "shell.execute_reply": "2021-07-26T15:47:11.271751Z",
     "shell.execute_reply.started": "2021-07-26T15:47:11.269002Z"
    }
   },
   "outputs": [],
   "source": [
    "from sklearn.metrics import accuracy_score"
   ]
  },
  {
   "cell_type": "code",
   "execution_count": 36,
   "metadata": {
    "execution": {
     "iopub.execute_input": "2021-07-26T15:47:11.274367Z",
     "iopub.status.busy": "2021-07-26T15:47:11.274106Z",
     "iopub.status.idle": "2021-07-26T15:47:11.334207Z",
     "shell.execute_reply": "2021-07-26T15:47:11.333041Z",
     "shell.execute_reply.started": "2021-07-26T15:47:11.274343Z"
    }
   },
   "outputs": [
    {
     "data": {
      "text/plain": [
       "array([0, 1, 0, ..., 0, 0, 0])"
      ]
     },
     "execution_count": 36,
     "metadata": {},
     "output_type": "execute_result"
    }
   ],
   "source": [
    "y_pred=clf.predict(X_test)\n",
    "y_pred"
   ]
  },
  {
   "cell_type": "code",
   "execution_count": 37,
   "metadata": {
    "execution": {
     "iopub.execute_input": "2021-07-26T15:47:11.336155Z",
     "iopub.status.busy": "2021-07-26T15:47:11.335743Z",
     "iopub.status.idle": "2021-07-26T15:47:11.346864Z",
     "shell.execute_reply": "2021-07-26T15:47:11.345693Z",
     "shell.execute_reply.started": "2021-07-26T15:47:11.336105Z"
    }
   },
   "outputs": [
    {
     "data": {
      "text/plain": [
       "0.9938542581211589"
      ]
     },
     "execution_count": 37,
     "metadata": {},
     "output_type": "execute_result"
    }
   ],
   "source": [
    "accuracy_score(y_test,y_pred)"
   ]
  },
  {
   "cell_type": "code",
   "execution_count": 38,
   "metadata": {
    "execution": {
     "iopub.execute_input": "2021-07-26T15:47:11.349262Z",
     "iopub.status.busy": "2021-07-26T15:47:11.348750Z",
     "iopub.status.idle": "2021-07-26T15:47:11.354462Z",
     "shell.execute_reply": "2021-07-26T15:47:11.353204Z",
     "shell.execute_reply.started": "2021-07-26T15:47:11.349132Z"
    }
   },
   "outputs": [],
   "source": [
    "import pickle"
   ]
  },
  {
   "cell_type": "code",
   "execution_count": 39,
   "metadata": {
    "execution": {
     "iopub.execute_input": "2021-07-26T15:47:11.356660Z",
     "iopub.status.busy": "2021-07-26T15:47:11.356053Z",
     "iopub.status.idle": "2021-07-26T15:47:11.438379Z",
     "shell.execute_reply": "2021-07-26T15:47:11.437267Z",
     "shell.execute_reply.started": "2021-07-26T15:47:11.356612Z"
    }
   },
   "outputs": [],
   "source": [
    "pickle.dump(cv,open('cv.pkl','wb'))"
   ]
  },
  {
   "cell_type": "code",
   "execution_count": 40,
   "metadata": {
    "execution": {
     "iopub.execute_input": "2021-07-26T15:47:11.440468Z",
     "iopub.status.busy": "2021-07-26T15:47:11.439911Z",
     "iopub.status.idle": "2021-07-26T15:47:11.447844Z",
     "shell.execute_reply": "2021-07-26T15:47:11.446769Z",
     "shell.execute_reply.started": "2021-07-26T15:47:11.440426Z"
    }
   },
   "outputs": [],
   "source": [
    "pickle.dump(clf,open('clf.pkl','wb'))"
   ]
  },
  {
   "cell_type": "code",
   "execution_count": null,
   "metadata": {},
   "outputs": [],
   "source": []
  }
 ],
 "metadata": {
  "kernelspec": {
   "display_name": "Python 3",
   "language": "python",
   "name": "python3"
  },
  "language_info": {
   "codemirror_mode": {
    "name": "ipython",
    "version": 3
   },
   "file_extension": ".py",
   "mimetype": "text/x-python",
   "name": "python",
   "nbconvert_exporter": "python",
   "pygments_lexer": "ipython3",
   "version": "3.8.5"
  }
 },
 "nbformat": 4,
 "nbformat_minor": 4
}
